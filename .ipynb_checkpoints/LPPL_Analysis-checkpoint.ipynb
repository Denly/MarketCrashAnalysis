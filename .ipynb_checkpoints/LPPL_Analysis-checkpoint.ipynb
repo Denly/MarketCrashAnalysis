{
 "cells": [
  {
   "cell_type": "code",
   "execution_count": 35,
   "metadata": {
    "collapsed": true
   },
   "outputs": [],
   "source": [
    "'''\n",
    "* Notebook to calculate the critical time of market crash using LPPL\n",
    "* Using scipy basinhopping package\n",
    "* Author: Nihar Raut\n",
    "\n",
    "'''\n",
    "#Author\n",
    "\n",
    "import os\n",
    "\n",
    "import numpy as np\n",
    "import scipy.stats as scs\n",
    "from scipy.optimize import basinhopping\n",
    "\n",
    "import matplotlib.pyplot as plt\n",
    "import pandas as pd\n"
   ]
  },
  {
   "cell_type": "code",
   "execution_count": 185,
   "metadata": {
    "collapsed": true
   },
   "outputs": [],
   "source": [
    "# Log periodic function\n",
    "def y(x,A, B, tc, beta, C, omega,phi):\n",
    "    pred = A + B*(tc-x)**beta*(1+ C*np.cos(omega*np.log(tc -x) + phi))\n",
    "    return pred\n",
    "\n",
    "\n",
    "def y_test(x,A):\n",
    "    return x*A\n",
    "\n",
    "def res_fun(params,x, y_fit):\n",
    "    return ((y(x,params[0], params[1], params[2], params[3], params[4],\n",
    "             params[5],params[6]) - y_fit)**2).sum()\n",
    "\n",
    "#Linear\n",
    "def lppl (t,x):\n",
    "    a = x[0]\n",
    "    b = x[1]\n",
    "    tc = x[2]\n",
    "    m = x[3]\n",
    "    c = x[4]\n",
    "    w = x[5]\n",
    "    phi = x[6]\n",
    "    #print(\"Power: \",np.power(tc - t, m),\"tc \",tc,\"t \",t,\"m \",m)\n",
    "    #print(\"log: \",np.log(tc-t),\"tc \",tc,\"t \",t)\n",
    "   # print(\"cos: \",np.cos((w *np.log(tc-t))+phi), \"w \")\n",
    "    \n",
    "    return a - (b*np.power(tc - t, m))*(1 + (c*np.cos((w *np.log(tc-t))+phi)))\n",
    "\n",
    "def func(x):\n",
    "    delta = [lppl(t,x) for t in DataSeries[0]]\n",
    "    delta = np.subtract(delta, DataSeries[1])\n",
    "    delta = np.power(delta, 2)\n",
    "    return np.average(delta)"
   ]
  },
  {
   "cell_type": "code",
   "execution_count": 225,
   "metadata": {
    "scrolled": true
   },
   "outputs": [
    {
     "name": "stdout",
     "output_type": "stream",
     "text": [
      "1257\n"
     ]
    }
   ],
   "source": [
    "#Load data\n",
    "prices = pd.read_csv(\"./data/GSPC.csv\")\n",
    "\n",
    "#Log of prices\n",
    "yd = np.array(np.log(prices['Close'])[3027:4284])\n",
    "print(len(yd))"
   ]
  },
  {
   "cell_type": "code",
   "execution_count": 226,
   "metadata": {},
   "outputs": [
    {
     "name": "stdout",
     "output_type": "stream",
     "text": [
      "1257\n"
     ]
    }
   ],
   "source": [
    "#Curve Fitting\n",
    "A=1\n",
    "B=1\n",
    "tc=1\n",
    "t=1\n",
    "beta=1\n",
    "C=1\n",
    "omega=1\n",
    "phi = 1\n",
    "\n",
    "\n",
    "xd = np.linspace(1, len(yd), len(yd))\n",
    "\n",
    "print(len(xd))\n"
   ]
  },
  {
   "cell_type": "code",
   "execution_count": 227,
   "metadata": {},
   "outputs": [
    {
     "ename": "TypeError",
     "evalue": "y() takes 6 positional arguments but 8 were given",
     "output_type": "error",
     "traceback": [
      "\u001b[1;31m---------------------------------------------------------------------------\u001b[0m",
      "\u001b[1;31mTypeError\u001b[0m                                 Traceback (most recent call last)",
      "\u001b[1;32m<ipython-input-227-56d8e29a6cd2>\u001b[0m in \u001b[0;36m<module>\u001b[1;34m()\u001b[0m\n\u001b[0;32m      1\u001b[0m \u001b[0mparams\u001b[0m \u001b[1;33m=\u001b[0m \u001b[1;33m(\u001b[0m\u001b[0mA\u001b[0m\u001b[1;33m,\u001b[0m \u001b[0mB\u001b[0m\u001b[1;33m,\u001b[0m \u001b[0mtc\u001b[0m\u001b[1;33m,\u001b[0m \u001b[0mbeta\u001b[0m\u001b[1;33m,\u001b[0m \u001b[0mC\u001b[0m\u001b[1;33m,\u001b[0m\u001b[0momega\u001b[0m\u001b[1;33m,\u001b[0m\u001b[0mphi\u001b[0m\u001b[1;33m)\u001b[0m\u001b[1;33m\u001b[0m\u001b[0m\n\u001b[1;32m----> 2\u001b[1;33m \u001b[0mhop\u001b[0m \u001b[1;33m=\u001b[0m \u001b[0mbasinhopping\u001b[0m\u001b[1;33m(\u001b[0m\u001b[0mres_fun\u001b[0m\u001b[1;33m,\u001b[0m\u001b[0mparams\u001b[0m\u001b[1;33m,\u001b[0m \u001b[0mminimizer_kwargs\u001b[0m\u001b[1;33m=\u001b[0m\u001b[0mdict\u001b[0m\u001b[1;33m(\u001b[0m\u001b[0margs\u001b[0m\u001b[1;33m=\u001b[0m\u001b[1;33m(\u001b[0m\u001b[0mxd\u001b[0m\u001b[1;33m,\u001b[0m \u001b[0myd\u001b[0m\u001b[1;33m)\u001b[0m\u001b[1;33m)\u001b[0m\u001b[1;33m)\u001b[0m\u001b[1;33m\u001b[0m\u001b[0m\n\u001b[0m",
      "\u001b[1;32mD:\\Softwares\\Anaconda3-5\\lib\\site-packages\\scipy\\optimize\\_basinhopping.py\u001b[0m in \u001b[0;36mbasinhopping\u001b[1;34m(func, x0, niter, T, stepsize, minimizer_kwargs, take_step, accept_test, callback, interval, disp, niter_success, seed)\u001b[0m\n\u001b[0;32m    633\u001b[0m \u001b[1;33m\u001b[0m\u001b[0m\n\u001b[0;32m    634\u001b[0m     bh = BasinHoppingRunner(x0, wrapped_minimizer, take_step_wrapped,\n\u001b[1;32m--> 635\u001b[1;33m                             accept_tests, disp=disp)\n\u001b[0m\u001b[0;32m    636\u001b[0m \u001b[1;33m\u001b[0m\u001b[0m\n\u001b[0;32m    637\u001b[0m     \u001b[1;31m# start main iteration loop\u001b[0m\u001b[1;33m\u001b[0m\u001b[1;33m\u001b[0m\u001b[0m\n",
      "\u001b[1;32mD:\\Softwares\\Anaconda3-5\\lib\\site-packages\\scipy\\optimize\\_basinhopping.py\u001b[0m in \u001b[0;36m__init__\u001b[1;34m(self, x0, minimizer, step_taking, accept_tests, disp)\u001b[0m\n\u001b[0;32m     72\u001b[0m \u001b[1;33m\u001b[0m\u001b[0m\n\u001b[0;32m     73\u001b[0m         \u001b[1;31m# do initial minimization\u001b[0m\u001b[1;33m\u001b[0m\u001b[1;33m\u001b[0m\u001b[0m\n\u001b[1;32m---> 74\u001b[1;33m         \u001b[0mminres\u001b[0m \u001b[1;33m=\u001b[0m \u001b[0mminimizer\u001b[0m\u001b[1;33m(\u001b[0m\u001b[0mself\u001b[0m\u001b[1;33m.\u001b[0m\u001b[0mx\u001b[0m\u001b[1;33m)\u001b[0m\u001b[1;33m\u001b[0m\u001b[0m\n\u001b[0m\u001b[0;32m     75\u001b[0m         \u001b[1;32mif\u001b[0m \u001b[1;32mnot\u001b[0m \u001b[0mminres\u001b[0m\u001b[1;33m.\u001b[0m\u001b[0msuccess\u001b[0m\u001b[1;33m:\u001b[0m\u001b[1;33m\u001b[0m\u001b[0m\n\u001b[0;32m     76\u001b[0m             \u001b[0mself\u001b[0m\u001b[1;33m.\u001b[0m\u001b[0mres\u001b[0m\u001b[1;33m.\u001b[0m\u001b[0mminimization_failures\u001b[0m \u001b[1;33m+=\u001b[0m \u001b[1;36m1\u001b[0m\u001b[1;33m\u001b[0m\u001b[0m\n",
      "\u001b[1;32mD:\\Softwares\\Anaconda3-5\\lib\\site-packages\\scipy\\optimize\\_basinhopping.py\u001b[0m in \u001b[0;36m__call__\u001b[1;34m(self, x0)\u001b[0m\n\u001b[0;32m    280\u001b[0m             \u001b[1;32mreturn\u001b[0m \u001b[0mself\u001b[0m\u001b[1;33m.\u001b[0m\u001b[0mminimizer\u001b[0m\u001b[1;33m(\u001b[0m\u001b[0mx0\u001b[0m\u001b[1;33m,\u001b[0m \u001b[1;33m**\u001b[0m\u001b[0mself\u001b[0m\u001b[1;33m.\u001b[0m\u001b[0mkwargs\u001b[0m\u001b[1;33m)\u001b[0m\u001b[1;33m\u001b[0m\u001b[0m\n\u001b[0;32m    281\u001b[0m         \u001b[1;32melse\u001b[0m\u001b[1;33m:\u001b[0m\u001b[1;33m\u001b[0m\u001b[0m\n\u001b[1;32m--> 282\u001b[1;33m             \u001b[1;32mreturn\u001b[0m \u001b[0mself\u001b[0m\u001b[1;33m.\u001b[0m\u001b[0mminimizer\u001b[0m\u001b[1;33m(\u001b[0m\u001b[0mself\u001b[0m\u001b[1;33m.\u001b[0m\u001b[0mfunc\u001b[0m\u001b[1;33m,\u001b[0m \u001b[0mx0\u001b[0m\u001b[1;33m,\u001b[0m \u001b[1;33m**\u001b[0m\u001b[0mself\u001b[0m\u001b[1;33m.\u001b[0m\u001b[0mkwargs\u001b[0m\u001b[1;33m)\u001b[0m\u001b[1;33m\u001b[0m\u001b[0m\n\u001b[0m\u001b[0;32m    283\u001b[0m \u001b[1;33m\u001b[0m\u001b[0m\n\u001b[0;32m    284\u001b[0m \u001b[1;33m\u001b[0m\u001b[0m\n",
      "\u001b[1;32mD:\\Softwares\\Anaconda3-5\\lib\\site-packages\\scipy\\optimize\\_minimize.py\u001b[0m in \u001b[0;36mminimize\u001b[1;34m(fun, x0, args, method, jac, hess, hessp, bounds, constraints, tol, callback, options)\u001b[0m\n\u001b[0;32m    442\u001b[0m         \u001b[1;32mreturn\u001b[0m \u001b[0m_minimize_cg\u001b[0m\u001b[1;33m(\u001b[0m\u001b[0mfun\u001b[0m\u001b[1;33m,\u001b[0m \u001b[0mx0\u001b[0m\u001b[1;33m,\u001b[0m \u001b[0margs\u001b[0m\u001b[1;33m,\u001b[0m \u001b[0mjac\u001b[0m\u001b[1;33m,\u001b[0m \u001b[0mcallback\u001b[0m\u001b[1;33m,\u001b[0m \u001b[1;33m**\u001b[0m\u001b[0moptions\u001b[0m\u001b[1;33m)\u001b[0m\u001b[1;33m\u001b[0m\u001b[0m\n\u001b[0;32m    443\u001b[0m     \u001b[1;32melif\u001b[0m \u001b[0mmeth\u001b[0m \u001b[1;33m==\u001b[0m \u001b[1;34m'bfgs'\u001b[0m\u001b[1;33m:\u001b[0m\u001b[1;33m\u001b[0m\u001b[0m\n\u001b[1;32m--> 444\u001b[1;33m         \u001b[1;32mreturn\u001b[0m \u001b[0m_minimize_bfgs\u001b[0m\u001b[1;33m(\u001b[0m\u001b[0mfun\u001b[0m\u001b[1;33m,\u001b[0m \u001b[0mx0\u001b[0m\u001b[1;33m,\u001b[0m \u001b[0margs\u001b[0m\u001b[1;33m,\u001b[0m \u001b[0mjac\u001b[0m\u001b[1;33m,\u001b[0m \u001b[0mcallback\u001b[0m\u001b[1;33m,\u001b[0m \u001b[1;33m**\u001b[0m\u001b[0moptions\u001b[0m\u001b[1;33m)\u001b[0m\u001b[1;33m\u001b[0m\u001b[0m\n\u001b[0m\u001b[0;32m    445\u001b[0m     \u001b[1;32melif\u001b[0m \u001b[0mmeth\u001b[0m \u001b[1;33m==\u001b[0m \u001b[1;34m'newton-cg'\u001b[0m\u001b[1;33m:\u001b[0m\u001b[1;33m\u001b[0m\u001b[0m\n\u001b[0;32m    446\u001b[0m         return _minimize_newtoncg(fun, x0, args, jac, hess, hessp, callback,\n",
      "\u001b[1;32mD:\\Softwares\\Anaconda3-5\\lib\\site-packages\\scipy\\optimize\\optimize.py\u001b[0m in \u001b[0;36m_minimize_bfgs\u001b[1;34m(fun, x0, args, jac, callback, gtol, norm, eps, maxiter, disp, return_all, **unknown_options)\u001b[0m\n\u001b[0;32m    911\u001b[0m     \u001b[1;32melse\u001b[0m\u001b[1;33m:\u001b[0m\u001b[1;33m\u001b[0m\u001b[0m\n\u001b[0;32m    912\u001b[0m         \u001b[0mgrad_calls\u001b[0m\u001b[1;33m,\u001b[0m \u001b[0mmyfprime\u001b[0m \u001b[1;33m=\u001b[0m \u001b[0mwrap_function\u001b[0m\u001b[1;33m(\u001b[0m\u001b[0mfprime\u001b[0m\u001b[1;33m,\u001b[0m \u001b[0margs\u001b[0m\u001b[1;33m)\u001b[0m\u001b[1;33m\u001b[0m\u001b[0m\n\u001b[1;32m--> 913\u001b[1;33m     \u001b[0mgfk\u001b[0m \u001b[1;33m=\u001b[0m \u001b[0mmyfprime\u001b[0m\u001b[1;33m(\u001b[0m\u001b[0mx0\u001b[0m\u001b[1;33m)\u001b[0m\u001b[1;33m\u001b[0m\u001b[0m\n\u001b[0m\u001b[0;32m    914\u001b[0m     \u001b[0mk\u001b[0m \u001b[1;33m=\u001b[0m \u001b[1;36m0\u001b[0m\u001b[1;33m\u001b[0m\u001b[0m\n\u001b[0;32m    915\u001b[0m     \u001b[0mN\u001b[0m \u001b[1;33m=\u001b[0m \u001b[0mlen\u001b[0m\u001b[1;33m(\u001b[0m\u001b[0mx0\u001b[0m\u001b[1;33m)\u001b[0m\u001b[1;33m\u001b[0m\u001b[0m\n",
      "\u001b[1;32mD:\\Softwares\\Anaconda3-5\\lib\\site-packages\\scipy\\optimize\\optimize.py\u001b[0m in \u001b[0;36mfunction_wrapper\u001b[1;34m(*wrapper_args)\u001b[0m\n\u001b[0;32m    290\u001b[0m     \u001b[1;32mdef\u001b[0m \u001b[0mfunction_wrapper\u001b[0m\u001b[1;33m(\u001b[0m\u001b[1;33m*\u001b[0m\u001b[0mwrapper_args\u001b[0m\u001b[1;33m)\u001b[0m\u001b[1;33m:\u001b[0m\u001b[1;33m\u001b[0m\u001b[0m\n\u001b[0;32m    291\u001b[0m         \u001b[0mncalls\u001b[0m\u001b[1;33m[\u001b[0m\u001b[1;36m0\u001b[0m\u001b[1;33m]\u001b[0m \u001b[1;33m+=\u001b[0m \u001b[1;36m1\u001b[0m\u001b[1;33m\u001b[0m\u001b[0m\n\u001b[1;32m--> 292\u001b[1;33m         \u001b[1;32mreturn\u001b[0m \u001b[0mfunction\u001b[0m\u001b[1;33m(\u001b[0m\u001b[1;33m*\u001b[0m\u001b[1;33m(\u001b[0m\u001b[0mwrapper_args\u001b[0m \u001b[1;33m+\u001b[0m \u001b[0margs\u001b[0m\u001b[1;33m)\u001b[0m\u001b[1;33m)\u001b[0m\u001b[1;33m\u001b[0m\u001b[0m\n\u001b[0m\u001b[0;32m    293\u001b[0m \u001b[1;33m\u001b[0m\u001b[0m\n\u001b[0;32m    294\u001b[0m     \u001b[1;32mreturn\u001b[0m \u001b[0mncalls\u001b[0m\u001b[1;33m,\u001b[0m \u001b[0mfunction_wrapper\u001b[0m\u001b[1;33m\u001b[0m\u001b[0m\n",
      "\u001b[1;32mD:\\Softwares\\Anaconda3-5\\lib\\site-packages\\scipy\\optimize\\optimize.py\u001b[0m in \u001b[0;36mapprox_fprime\u001b[1;34m(xk, f, epsilon, *args)\u001b[0m\n\u001b[0;32m    686\u001b[0m \u001b[1;33m\u001b[0m\u001b[0m\n\u001b[0;32m    687\u001b[0m     \"\"\"\n\u001b[1;32m--> 688\u001b[1;33m     \u001b[1;32mreturn\u001b[0m \u001b[0m_approx_fprime_helper\u001b[0m\u001b[1;33m(\u001b[0m\u001b[0mxk\u001b[0m\u001b[1;33m,\u001b[0m \u001b[0mf\u001b[0m\u001b[1;33m,\u001b[0m \u001b[0mepsilon\u001b[0m\u001b[1;33m,\u001b[0m \u001b[0margs\u001b[0m\u001b[1;33m=\u001b[0m\u001b[0margs\u001b[0m\u001b[1;33m)\u001b[0m\u001b[1;33m\u001b[0m\u001b[0m\n\u001b[0m\u001b[0;32m    689\u001b[0m \u001b[1;33m\u001b[0m\u001b[0m\n\u001b[0;32m    690\u001b[0m \u001b[1;33m\u001b[0m\u001b[0m\n",
      "\u001b[1;32mD:\\Softwares\\Anaconda3-5\\lib\\site-packages\\scipy\\optimize\\optimize.py\u001b[0m in \u001b[0;36m_approx_fprime_helper\u001b[1;34m(xk, f, epsilon, args, f0)\u001b[0m\n\u001b[0;32m    620\u001b[0m     \"\"\"\n\u001b[0;32m    621\u001b[0m     \u001b[1;32mif\u001b[0m \u001b[0mf0\u001b[0m \u001b[1;32mis\u001b[0m \u001b[1;32mNone\u001b[0m\u001b[1;33m:\u001b[0m\u001b[1;33m\u001b[0m\u001b[0m\n\u001b[1;32m--> 622\u001b[1;33m         \u001b[0mf0\u001b[0m \u001b[1;33m=\u001b[0m \u001b[0mf\u001b[0m\u001b[1;33m(\u001b[0m\u001b[1;33m*\u001b[0m\u001b[1;33m(\u001b[0m\u001b[1;33m(\u001b[0m\u001b[0mxk\u001b[0m\u001b[1;33m,\u001b[0m\u001b[1;33m)\u001b[0m \u001b[1;33m+\u001b[0m \u001b[0margs\u001b[0m\u001b[1;33m)\u001b[0m\u001b[1;33m)\u001b[0m\u001b[1;33m\u001b[0m\u001b[0m\n\u001b[0m\u001b[0;32m    623\u001b[0m     \u001b[0mgrad\u001b[0m \u001b[1;33m=\u001b[0m \u001b[0mnumpy\u001b[0m\u001b[1;33m.\u001b[0m\u001b[0mzeros\u001b[0m\u001b[1;33m(\u001b[0m\u001b[1;33m(\u001b[0m\u001b[0mlen\u001b[0m\u001b[1;33m(\u001b[0m\u001b[0mxk\u001b[0m\u001b[1;33m)\u001b[0m\u001b[1;33m,\u001b[0m\u001b[1;33m)\u001b[0m\u001b[1;33m,\u001b[0m \u001b[0mfloat\u001b[0m\u001b[1;33m)\u001b[0m\u001b[1;33m\u001b[0m\u001b[0m\n\u001b[0;32m    624\u001b[0m     \u001b[0mei\u001b[0m \u001b[1;33m=\u001b[0m \u001b[0mnumpy\u001b[0m\u001b[1;33m.\u001b[0m\u001b[0mzeros\u001b[0m\u001b[1;33m(\u001b[0m\u001b[1;33m(\u001b[0m\u001b[0mlen\u001b[0m\u001b[1;33m(\u001b[0m\u001b[0mxk\u001b[0m\u001b[1;33m)\u001b[0m\u001b[1;33m,\u001b[0m\u001b[1;33m)\u001b[0m\u001b[1;33m,\u001b[0m \u001b[0mfloat\u001b[0m\u001b[1;33m)\u001b[0m\u001b[1;33m\u001b[0m\u001b[0m\n",
      "\u001b[1;32mD:\\Softwares\\Anaconda3-5\\lib\\site-packages\\scipy\\optimize\\optimize.py\u001b[0m in \u001b[0;36mfunction_wrapper\u001b[1;34m(*wrapper_args)\u001b[0m\n\u001b[0;32m    290\u001b[0m     \u001b[1;32mdef\u001b[0m \u001b[0mfunction_wrapper\u001b[0m\u001b[1;33m(\u001b[0m\u001b[1;33m*\u001b[0m\u001b[0mwrapper_args\u001b[0m\u001b[1;33m)\u001b[0m\u001b[1;33m:\u001b[0m\u001b[1;33m\u001b[0m\u001b[0m\n\u001b[0;32m    291\u001b[0m         \u001b[0mncalls\u001b[0m\u001b[1;33m[\u001b[0m\u001b[1;36m0\u001b[0m\u001b[1;33m]\u001b[0m \u001b[1;33m+=\u001b[0m \u001b[1;36m1\u001b[0m\u001b[1;33m\u001b[0m\u001b[0m\n\u001b[1;32m--> 292\u001b[1;33m         \u001b[1;32mreturn\u001b[0m \u001b[0mfunction\u001b[0m\u001b[1;33m(\u001b[0m\u001b[1;33m*\u001b[0m\u001b[1;33m(\u001b[0m\u001b[0mwrapper_args\u001b[0m \u001b[1;33m+\u001b[0m \u001b[0margs\u001b[0m\u001b[1;33m)\u001b[0m\u001b[1;33m)\u001b[0m\u001b[1;33m\u001b[0m\u001b[0m\n\u001b[0m\u001b[0;32m    293\u001b[0m \u001b[1;33m\u001b[0m\u001b[0m\n\u001b[0;32m    294\u001b[0m     \u001b[1;32mreturn\u001b[0m \u001b[0mncalls\u001b[0m\u001b[1;33m,\u001b[0m \u001b[0mfunction_wrapper\u001b[0m\u001b[1;33m\u001b[0m\u001b[0m\n",
      "\u001b[1;32m<ipython-input-185-d84830f555a1>\u001b[0m in \u001b[0;36mres_fun\u001b[1;34m(params, x, y_fit)\u001b[0m\n\u001b[0;32m     10\u001b[0m \u001b[1;32mdef\u001b[0m \u001b[0mres_fun\u001b[0m\u001b[1;33m(\u001b[0m\u001b[0mparams\u001b[0m\u001b[1;33m,\u001b[0m\u001b[0mx\u001b[0m\u001b[1;33m,\u001b[0m \u001b[0my_fit\u001b[0m\u001b[1;33m)\u001b[0m\u001b[1;33m:\u001b[0m\u001b[1;33m\u001b[0m\u001b[0m\n\u001b[0;32m     11\u001b[0m     return ((y(x,params[0], params[1], params[2], params[3], params[4],\n\u001b[1;32m---> 12\u001b[1;33m              params[5],params[6]) - y_fit)**2).sum()\n\u001b[0m\u001b[0;32m     13\u001b[0m \u001b[1;33m\u001b[0m\u001b[0m\n\u001b[0;32m     14\u001b[0m \u001b[1;31m#Linear\u001b[0m\u001b[1;33m\u001b[0m\u001b[1;33m\u001b[0m\u001b[0m\n",
      "\u001b[1;31mTypeError\u001b[0m: y() takes 6 positional arguments but 8 were given"
     ]
    }
   ],
   "source": [
    "params = (A, B, tc, beta, C,omega,phi)\n",
    "hop = basinhopping(res_fun,params, minimizer_kwargs=dict(args=(xd, yd)))"
   ]
  },
  {
   "cell_type": "code",
   "execution_count": 139,
   "metadata": {},
   "outputs": [
    {
     "name": "stdout",
     "output_type": "stream",
     "text": [
      "[1. 1. 1. 1. 1. 1. 1.]\n"
     ]
    }
   ],
   "source": [
    "print(hop.x)"
   ]
  },
  {
   "cell_type": "code",
   "execution_count": 140,
   "metadata": {},
   "outputs": [
    {
     "name": "stderr",
     "output_type": "stream",
     "text": [
      "D:\\Softwares\\Anaconda3-5\\lib\\site-packages\\ipykernel_launcher.py:3: RuntimeWarning: divide by zero encountered in log\n",
      "  This is separate from the ipykernel package so we can avoid doing imports until\n",
      "D:\\Softwares\\Anaconda3-5\\lib\\site-packages\\ipykernel_launcher.py:3: RuntimeWarning: invalid value encountered in log\n",
      "  This is separate from the ipykernel package so we can avoid doing imports until\n",
      "D:\\Softwares\\Anaconda3-5\\lib\\site-packages\\ipykernel_launcher.py:3: RuntimeWarning: invalid value encountered in cos\n",
      "  This is separate from the ipykernel package so we can avoid doing imports until\n"
     ]
    },
    {
     "data": {
      "image/png": "[encoded data removed]",
      "text/plain": [
       "<matplotlib.figure.Figure at 0x2a9c1194390>"
      ]
     },
     "metadata": {},
     "output_type": "display_data"
    },
    {
     "name": "stdout",
     "output_type": "stream",
     "text": [
      "[nan nan nan ... nan nan nan]\n"
     ]
    }
   ],
   "source": [
    "plt.scatter(xd, yd)\n",
    "plt.plot(xd, y(xd, *hop.x), c='r')\n",
    "plt.show()\n",
    "\n",
    "print(y(xd, *hop.x))"
   ]
  },
  {
   "cell_type": "code",
   "execution_count": 228,
   "metadata": {},
   "outputs": [
    {
     "name": "stderr",
     "output_type": "stream",
     "text": [
      "D:\\Softwares\\Anaconda3-5\\lib\\site-packages\\ipykernel_launcher.py:6: RuntimeWarning: invalid value encountered in power\n",
      "  \n",
      "D:\\Softwares\\Anaconda3-5\\lib\\site-packages\\ipykernel_launcher.py:6: RuntimeWarning: divide by zero encountered in log\n",
      "  \n",
      "D:\\Softwares\\Anaconda3-5\\lib\\site-packages\\ipykernel_launcher.py:6: RuntimeWarning: invalid value encountered in log\n",
      "  \n",
      "D:\\Softwares\\Anaconda3-5\\lib\\site-packages\\ipykernel_launcher.py:6: RuntimeWarning: invalid value encountered in cos\n",
      "  \n",
      "D:\\Softwares\\Anaconda3-5\\lib\\site-packages\\numpy\\core\\fromnumeric.py:83: RuntimeWarning: invalid value encountered in reduce\n",
      "  return ufunc.reduce(obj, axis, dtype, out, **passkwargs)\n"
     ]
    },
    {
     "name": "stdout",
     "output_type": "stream",
     "text": [
      "[ 2.4e+00 -5.3e-02  1.0e+02  3.7e-01  1.4e-03  1.0e+01 -2.6e+00]\n"
     ]
    },
    {
     "ename": "TypeError",
     "evalue": "y() takes 6 positional arguments but 9 were given",
     "output_type": "error",
     "traceback": [
      "\u001b[1;31m---------------------------------------------------------------------------\u001b[0m",
      "\u001b[1;31mTypeError\u001b[0m                                 Traceback (most recent call last)",
      "\u001b[1;32m<ipython-input-228-f5698d8a4b43>\u001b[0m in \u001b[0;36m<module>\u001b[1;34m()\u001b[0m\n\u001b[0;32m     26\u001b[0m \u001b[0mprint\u001b[0m\u001b[1;33m(\u001b[0m\u001b[0mhop\u001b[0m\u001b[1;33m.\u001b[0m\u001b[0mx\u001b[0m\u001b[1;33m)\u001b[0m\u001b[1;33m\u001b[0m\u001b[0m\n\u001b[0;32m     27\u001b[0m \u001b[0mplt\u001b[0m\u001b[1;33m.\u001b[0m\u001b[0mscatter\u001b[0m\u001b[1;33m(\u001b[0m\u001b[0mxd\u001b[0m\u001b[1;33m,\u001b[0m \u001b[0myd\u001b[0m\u001b[1;33m)\u001b[0m\u001b[1;33m\u001b[0m\u001b[0m\n\u001b[1;32m---> 28\u001b[1;33m \u001b[0mplt\u001b[0m\u001b[1;33m.\u001b[0m\u001b[0mplot\u001b[0m\u001b[1;33m(\u001b[0m\u001b[0mxd\u001b[0m\u001b[1;33m,\u001b[0m \u001b[0my\u001b[0m\u001b[1;33m(\u001b[0m\u001b[0mxd\u001b[0m\u001b[1;33m,\u001b[0m \u001b[1;33m*\u001b[0m\u001b[0mhop\u001b[0m\u001b[1;33m)\u001b[0m\u001b[1;33m,\u001b[0m \u001b[0mc\u001b[0m\u001b[1;33m=\u001b[0m\u001b[1;34m'r'\u001b[0m\u001b[1;33m)\u001b[0m\u001b[1;33m\u001b[0m\u001b[0m\n\u001b[0m\u001b[0;32m     29\u001b[0m \u001b[0mplt\u001b[0m\u001b[1;33m.\u001b[0m\u001b[0mshow\u001b[0m\u001b[1;33m(\u001b[0m\u001b[1;33m)\u001b[0m\u001b[1;33m\u001b[0m\u001b[0m\n",
      "\u001b[1;31mTypeError\u001b[0m: y() takes 6 positional arguments but 9 were given"
     ]
    }
   ],
   "source": [
    "import numpy as np\n",
    "import scipy.stats as sp\n",
    "from scipy.optimize import curve_fit, basinhopping, brute\n",
    "\n",
    "def func1(x, A, B, tc, beta, C,omega,phi):\n",
    "    return np.clip(A + B*(tc-x)**beta*(1+ C*np.cos(omega*np.log(tc -x) + phi)),25e4,10e6)\n",
    "\n",
    "def func_free(x, n1, n2):\n",
    "    return np.exp(n2 + n1*(sp.norm.ppf(x)))\n",
    "\n",
    "def sqerr(params, x, y):\n",
    "    return ((func1(x,*params) - y)**2).sum()\n",
    "\n",
    "# get a good starting point\n",
    "A = 2.4\n",
    "B=-0.053\n",
    "C = 0.0014\n",
    "beta = 0.37\n",
    "omega = 10\n",
    "phi = -2.6\n",
    "tc= 100\n",
    "\n",
    "# use basin hopping\n",
    "p0 = (A, B, tc, beta, C,omega,phi)\n",
    "hop = basinhopping(sqerr, p0, minimizer_kwargs=dict(args=(xd, yd)), stepsize=10)\n",
    "print(hop.x)\n",
    "plt.scatter(xd, yd)\n",
    "plt.plot(xd, y(xd, *hop), c='r')\n",
    "plt.show()"
   ]
  },
  {
   "cell_type": "code",
   "execution_count": 112,
   "metadata": {},
   "outputs": [
    {
     "data": {
      "text/plain": [
       "array([ 2.4e+00, -5.3e-02,  1.0e+02,  3.7e-01,  1.4e-03,  1.0e+01,\n",
       "       -2.6e+00])"
      ]
     },
     "execution_count": 112,
     "metadata": {},
     "output_type": "execute_result"
    }
   ],
   "source": [
    "hop.x"
   ]
  },
  {
   "cell_type": "code",
   "execution_count": 229,
   "metadata": {},
   "outputs": [
    {
     "name": "stderr",
     "output_type": "stream",
     "text": [
      "D:\\Softwares\\Anaconda3-5\\lib\\site-packages\\ipykernel_launcher.py:27: RuntimeWarning: invalid value encountered in power\n",
      "D:\\Softwares\\Anaconda3-5\\lib\\site-packages\\ipykernel_launcher.py:27: RuntimeWarning: divide by zero encountered in log\n",
      "D:\\Softwares\\Anaconda3-5\\lib\\site-packages\\ipykernel_launcher.py:27: RuntimeWarning: invalid value encountered in log\n",
      "D:\\Softwares\\Anaconda3-5\\lib\\site-packages\\ipykernel_launcher.py:27: RuntimeWarning: invalid value encountered in cos\n"
     ]
    },
    {
     "data": {
      "image/png": "[encoded data removed]",
      "text/plain": [
       "<matplotlib.figure.Figure at 0x2a9c0e51b38>"
      ]
     },
     "metadata": {},
     "output_type": "display_data"
    },
    {
     "name": "stderr",
     "output_type": "stream",
     "text": [
      "D:\\Softwares\\Anaconda3-5\\lib\\site-packages\\numpy\\core\\fromnumeric.py:83: RuntimeWarning: invalid value encountered in reduce\n",
      "  return ufunc.reduce(obj, axis, dtype, out, **passkwargs)\n"
     ]
    }
   ],
   "source": [
    "class MyStepper(object):\n",
    "    ''' Implements some simple reasonable modifications to parameter stepping\n",
    "            * Frequencies are kept positive\n",
    "            * Powers are exponentially suppressed from getting 'large'\n",
    "            * \n",
    "    '''\n",
    "    def __init__(self, stepsize=0.5):\n",
    "        self.stepsize = stepsize\n",
    "\n",
    "    def __call__(self, x):\n",
    "        ''' Updater for stepping x[*] parameters\n",
    "        '''\n",
    "        #a = x[0]\n",
    "        #b = x[1]\n",
    "        #tc = x[2]\n",
    "        #m = x[3]\n",
    "        #c = x[4]\n",
    "        #w = x[5]\n",
    "        #phi = x[6]\n",
    "        \n",
    "        s = self.stepsize\n",
    "\n",
    "        # relative parameter scales o/m, etc.\n",
    "        scale_A =100\n",
    "        scale_w = 10\n",
    "        scale_C =100\n",
    "        scale_tc = 10\n",
    "        \n",
    "        #scale_om = 10.0\n",
    "        #scale_Am = 100.0\n",
    "        #scale_Cm = 100.0\n",
    "        #scale_tm = 10.0\n",
    "        #A + tau**m * x**m + C * tau**m * x**m * np.cos(o * np.log(x))\n",
    "        #0=o,1= m, 2=A, 3=C, 4=tau\n",
    "        # Treat the frequency differently -- only interested in positive\n",
    "        # frequency values.\n",
    "        inc = scale_w * np.random.uniform(-s, s)\n",
    "\n",
    "        if (x[5] + inc <= 0):\n",
    "            x[5] += abs(inc)\n",
    "        else:\n",
    "            x[5] += inc\n",
    "\n",
    "        # Treat the power differently -- large powers (>>1) can easily cause\n",
    "        # numerical problems, so we exponentially penalize steps in the power\n",
    "        # parameter 'm'.\n",
    "        x[3] += np.exp(-abs(x[3])) * np.random.uniform(-s, s)\n",
    "\n",
    "        x[0] += scale_A * np.random.uniform(-s, s)\n",
    "        x[4] += scale_C * np.random.uniform(-s, s)\n",
    "\n",
    "        # Treat 'critical time' differently\n",
    "        inc = scale_tc * np.random.uniform(-s, s)\n",
    "\n",
    "        if (x[2] + inc <= 0):\n",
    "            x[2] += abs(inc)\n",
    "        else:\n",
    "            x[2] += inc\n",
    "\n",
    "        return x\n",
    "\n",
    "class MyBounds(object):\n",
    "    ''' This class implements a set of reasonable bounds (depends on units and\n",
    "        domain knowledge):\n",
    "            * frequencies less than 200\n",
    "            * powers less than 10\n",
    "            * intercept/coefficient less than 1e4\n",
    "            * critical time\n",
    "    '''\n",
    "    def __init__(self, xmax=[10, 10, 1500, 1, 1,20,6.28],\n",
    "                       xmin=[0, -5, 1022,0, -1, 2,0]):\n",
    "        self.xmax = np.array(xmax)\n",
    "        self.xmin = np.array(xmin)\n",
    "\n",
    "    def __call__(self, **kwargs):\n",
    "        ''' Evaluater -- Returns True if we accept the solution, False\n",
    "            otherwise.\n",
    "        '''\n",
    "        x = kwargs[\"x_new\"]\n",
    "\n",
    "        tmax = bool(np.all(x <= self.xmax))\n",
    "        tmin = bool(np.all(x >= self.xmin))\n",
    "\n",
    "        # Only accept solutions within all parameter bounds\n",
    "        return tmax and tmin\n",
    "    \n",
    "#limits = ([0, 10], [-5, 10], [1022, 1500], [0, 2], [-1,1], [0,10], [-3, 3])\n",
    "mybound = MyBounds()\n",
    "#a = x[0]\n",
    " #   b = x[1]\n",
    "  #  tc = x[2]\n",
    "   # m = x[3]\n",
    "   # c = x[4]\n",
    "    #w = x[5]\n",
    "    #phi = x[6]\n",
    "   # A = 2.4\n",
    "#B=-0.053\n",
    "#C = 0.0014\n",
    "#beta = 0.37\n",
    "#omega = 10\n",
    "#phi = -2.6\n",
    "#tc= 100\n",
    "global DataSeries\n",
    "DataSeries = [xd, yd]\n",
    "p0 = [2.4, -0.053, 1022, 0.37, 10, -2.5, 0.0014]\n",
    "plt.plot(xd, lppl(xd, p0), c='r')\n",
    "plt.show()\n",
    "hop = basinhopping(func,p0,accept_test=mybound )\n"
   ]
  },
  {
   "cell_type": "code",
   "execution_count": 230,
   "metadata": {},
   "outputs": [
    {
     "name": "stderr",
     "output_type": "stream",
     "text": [
      "D:\\Softwares\\Anaconda3-5\\lib\\site-packages\\ipykernel_launcher.py:27: RuntimeWarning: divide by zero encountered in log\n",
      "D:\\Softwares\\Anaconda3-5\\lib\\site-packages\\ipykernel_launcher.py:27: RuntimeWarning: invalid value encountered in cos\n",
      "D:\\Softwares\\Anaconda3-5\\lib\\site-packages\\ipykernel_launcher.py:27: RuntimeWarning: invalid value encountered in power\n",
      "D:\\Softwares\\Anaconda3-5\\lib\\site-packages\\ipykernel_launcher.py:27: RuntimeWarning: invalid value encountered in log\n"
     ]
    },
    {
     "data": {
      "image/png": "[encoded data removed]",
      "text/plain": [
       "<matplotlib.figure.Figure at 0x2a9c0e70828>"
      ]
     },
     "metadata": {},
     "output_type": "display_data"
    }
   ],
   "source": [
    "values = [lppl(t,p0) for t in DataSeries[0]]\n",
    "plt.plot(DataSeries[0], values)\n",
    "plt.scatter(DataSeries[0], np.log(DataSeries[1]))\n",
    "plt.show()"
   ]
  },
  {
   "cell_type": "code",
   "execution_count": 7,
   "metadata": {},
   "outputs": [
    {
     "name": "stdout",
     "output_type": "stream",
     "text": [
      "803\n"
     ]
    },
    {
     "name": "stderr",
     "output_type": "stream",
     "text": [
      "D:\\Softwares\\Anaconda3-5\\lib\\site-packages\\ipykernel_launcher.py:30: RuntimeWarning: overflow encountered in double_scalars\n",
      "D:\\Softwares\\Anaconda3-5\\lib\\site-packages\\ipykernel_launcher.py:30: RuntimeWarning: invalid value encountered in add\n",
      "D:\\Softwares\\Anaconda3-5\\lib\\site-packages\\ipykernel_launcher.py:30: RuntimeWarning: invalid value encountered in double_scalars\n",
      "D:\\Softwares\\Anaconda3-5\\lib\\site-packages\\ipykernel_launcher.py:30: RuntimeWarning: invalid value encountered in double_scalars\n",
      "D:\\Softwares\\Anaconda3-5\\lib\\site-packages\\ipykernel_launcher.py:30: RuntimeWarning: invalid value encountered in double_scalars\n",
      "D:\\Softwares\\Anaconda3-5\\lib\\site-packages\\ipykernel_launcher.py:30: RuntimeWarning: invalid value encountered in double_scalars\n",
      "D:\\Softwares\\Anaconda3-5\\lib\\site-packages\\ipykernel_launcher.py:30: RuntimeWarning: invalid value encountered in double_scalars\n",
      "D:\\Softwares\\Anaconda3-5\\lib\\site-packages\\ipykernel_launcher.py:30: RuntimeWarning: invalid value encountered in double_scalars\n",
      "D:\\Softwares\\Anaconda3-5\\lib\\site-packages\\ipykernel_launcher.py:30: RuntimeWarning: invalid value encountered in double_scalars\n",
      "D:\\Softwares\\Anaconda3-5\\lib\\site-packages\\ipykernel_launcher.py:30: RuntimeWarning: invalid value encountered in double_scalars\n",
      "D:\\Softwares\\Anaconda3-5\\lib\\site-packages\\ipykernel_launcher.py:30: RuntimeWarning: invalid value encountered in double_scalars\n",
      "D:\\Softwares\\Anaconda3-5\\lib\\site-packages\\ipykernel_launcher.py:30: RuntimeWarning: invalid value encountered in double_scalars\n",
      "D:\\Softwares\\Anaconda3-5\\lib\\site-packages\\ipykernel_launcher.py:30: RuntimeWarning: invalid value encountered in double_scalars\n",
      "D:\\Softwares\\Anaconda3-5\\lib\\site-packages\\ipykernel_launcher.py:30: RuntimeWarning: invalid value encountered in double_scalars\n",
      "D:\\Softwares\\Anaconda3-5\\lib\\site-packages\\ipykernel_launcher.py:30: RuntimeWarning: invalid value encountered in double_scalars\n",
      "D:\\Softwares\\Anaconda3-5\\lib\\site-packages\\ipykernel_launcher.py:30: RuntimeWarning: invalid value encountered in double_scalars\n",
      "D:\\Softwares\\Anaconda3-5\\lib\\site-packages\\ipykernel_launcher.py:30: RuntimeWarning: overflow encountered in double_scalars\n",
      "D:\\Softwares\\Anaconda3-5\\lib\\site-packages\\ipykernel_launcher.py:30: RuntimeWarning: invalid value encountered in add\n",
      "D:\\Softwares\\Anaconda3-5\\lib\\site-packages\\ipykernel_launcher.py:30: RuntimeWarning: invalid value encountered in double_scalars\n",
      "D:\\Softwares\\Anaconda3-5\\lib\\site-packages\\ipykernel_launcher.py:30: RuntimeWarning: invalid value encountered in double_scalars\n",
      "D:\\Softwares\\Anaconda3-5\\lib\\site-packages\\ipykernel_launcher.py:30: RuntimeWarning: invalid value encountered in double_scalars\n",
      "D:\\Softwares\\Anaconda3-5\\lib\\site-packages\\ipykernel_launcher.py:30: RuntimeWarning: invalid value encountered in double_scalars\n",
      "D:\\Softwares\\Anaconda3-5\\lib\\site-packages\\ipykernel_launcher.py:30: RuntimeWarning: invalid value encountered in double_scalars\n",
      "D:\\Softwares\\Anaconda3-5\\lib\\site-packages\\ipykernel_launcher.py:30: RuntimeWarning: invalid value encountered in double_scalars\n",
      "D:\\Softwares\\Anaconda3-5\\lib\\site-packages\\ipykernel_launcher.py:30: RuntimeWarning: invalid value encountered in double_scalars\n",
      "D:\\Softwares\\Anaconda3-5\\lib\\site-packages\\ipykernel_launcher.py:30: RuntimeWarning: invalid value encountered in double_scalars\n",
      "D:\\Softwares\\Anaconda3-5\\lib\\site-packages\\ipykernel_launcher.py:30: RuntimeWarning: invalid value encountered in double_scalars\n",
      "D:\\Softwares\\Anaconda3-5\\lib\\site-packages\\ipykernel_launcher.py:30: RuntimeWarning: invalid value encountered in double_scalars\n",
      "D:\\Softwares\\Anaconda3-5\\lib\\site-packages\\ipykernel_launcher.py:30: RuntimeWarning: invalid value encountered in double_scalars\n",
      "D:\\Softwares\\Anaconda3-5\\lib\\site-packages\\ipykernel_launcher.py:30: RuntimeWarning: invalid value encountered in double_scalars\n",
      "D:\\Softwares\\Anaconda3-5\\lib\\site-packages\\ipykernel_launcher.py:30: RuntimeWarning: overflow encountered in double_scalars\n",
      "D:\\Softwares\\Anaconda3-5\\lib\\site-packages\\ipykernel_launcher.py:30: RuntimeWarning: invalid value encountered in add\n",
      "D:\\Softwares\\Anaconda3-5\\lib\\site-packages\\ipykernel_launcher.py:30: RuntimeWarning: invalid value encountered in double_scalars\n",
      "D:\\Softwares\\Anaconda3-5\\lib\\site-packages\\ipykernel_launcher.py:30: RuntimeWarning: invalid value encountered in double_scalars\n",
      "D:\\Softwares\\Anaconda3-5\\lib\\site-packages\\ipykernel_launcher.py:30: RuntimeWarning: invalid value encountered in double_scalars\n",
      "D:\\Softwares\\Anaconda3-5\\lib\\site-packages\\ipykernel_launcher.py:30: RuntimeWarning: invalid value encountered in double_scalars\n",
      "D:\\Softwares\\Anaconda3-5\\lib\\site-packages\\ipykernel_launcher.py:30: RuntimeWarning: invalid value encountered in double_scalars\n",
      "D:\\Softwares\\Anaconda3-5\\lib\\site-packages\\ipykernel_launcher.py:30: RuntimeWarning: invalid value encountered in double_scalars\n",
      "D:\\Softwares\\Anaconda3-5\\lib\\site-packages\\ipykernel_launcher.py:30: RuntimeWarning: invalid value encountered in double_scalars\n",
      "D:\\Softwares\\Anaconda3-5\\lib\\site-packages\\ipykernel_launcher.py:30: RuntimeWarning: invalid value encountered in double_scalars\n",
      "D:\\Softwares\\Anaconda3-5\\lib\\site-packages\\ipykernel_launcher.py:30: RuntimeWarning: overflow encountered in double_scalars\n",
      "D:\\Softwares\\Anaconda3-5\\lib\\site-packages\\ipykernel_launcher.py:30: RuntimeWarning: overflow encountered in power\n",
      "D:\\Softwares\\Anaconda3-5\\lib\\site-packages\\ipykernel_launcher.py:30: RuntimeWarning: invalid value encountered in add\n",
      "D:\\Softwares\\Anaconda3-5\\lib\\site-packages\\ipykernel_launcher.py:30: RuntimeWarning: invalid value encountered in double_scalars\n",
      "D:\\Softwares\\Anaconda3-5\\lib\\site-packages\\ipykernel_launcher.py:30: RuntimeWarning: invalid value encountered in double_scalars\n",
      "D:\\Softwares\\Anaconda3-5\\lib\\site-packages\\ipykernel_launcher.py:30: RuntimeWarning: invalid value encountered in double_scalars\n",
      "D:\\Softwares\\Anaconda3-5\\lib\\site-packages\\ipykernel_launcher.py:30: RuntimeWarning: invalid value encountered in double_scalars\n",
      "D:\\Softwares\\Anaconda3-5\\lib\\site-packages\\ipykernel_launcher.py:30: RuntimeWarning: invalid value encountered in double_scalars\n",
      "D:\\Softwares\\Anaconda3-5\\lib\\site-packages\\ipykernel_launcher.py:30: RuntimeWarning: invalid value encountered in double_scalars\n",
      "D:\\Softwares\\Anaconda3-5\\lib\\site-packages\\ipykernel_launcher.py:30: RuntimeWarning: invalid value encountered in double_scalars\n",
      "D:\\Softwares\\Anaconda3-5\\lib\\site-packages\\ipykernel_launcher.py:30: RuntimeWarning: invalid value encountered in double_scalars\n",
      "D:\\Softwares\\Anaconda3-5\\lib\\site-packages\\ipykernel_launcher.py:30: RuntimeWarning: invalid value encountered in double_scalars\n",
      "D:\\Softwares\\Anaconda3-5\\lib\\site-packages\\ipykernel_launcher.py:30: RuntimeWarning: overflow encountered in power\n",
      "D:\\Softwares\\Anaconda3-5\\lib\\site-packages\\ipykernel_launcher.py:30: RuntimeWarning: invalid value encountered in double_scalars\n",
      "D:\\Softwares\\Anaconda3-5\\lib\\site-packages\\ipykernel_launcher.py:30: RuntimeWarning: invalid value encountered in double_scalars\n",
      "D:\\Softwares\\Anaconda3-5\\lib\\site-packages\\ipykernel_launcher.py:30: RuntimeWarning: invalid value encountered in double_scalars\n",
      "D:\\Softwares\\Anaconda3-5\\lib\\site-packages\\ipykernel_launcher.py:30: RuntimeWarning: invalid value encountered in double_scalars\n",
      "D:\\Softwares\\Anaconda3-5\\lib\\site-packages\\ipykernel_launcher.py:30: RuntimeWarning: overflow encountered in power\n",
      "D:\\Softwares\\Anaconda3-5\\lib\\site-packages\\ipykernel_launcher.py:30: RuntimeWarning: invalid value encountered in double_scalars\n",
      "D:\\Softwares\\Anaconda3-5\\lib\\site-packages\\ipykernel_launcher.py:30: RuntimeWarning: invalid value encountered in double_scalars\n",
      "D:\\Softwares\\Anaconda3-5\\lib\\site-packages\\ipykernel_launcher.py:30: RuntimeWarning: invalid value encountered in double_scalars\n",
      "D:\\Softwares\\Anaconda3-5\\lib\\site-packages\\ipykernel_launcher.py:30: RuntimeWarning: invalid value encountered in double_scalars\n",
      "D:\\Softwares\\Anaconda3-5\\lib\\site-packages\\ipykernel_launcher.py:30: RuntimeWarning: invalid value encountered in double_scalars\n",
      "D:\\Softwares\\Anaconda3-5\\lib\\site-packages\\ipykernel_launcher.py:30: RuntimeWarning: invalid value encountered in double_scalars\n",
      "D:\\Softwares\\Anaconda3-5\\lib\\site-packages\\ipykernel_launcher.py:30: RuntimeWarning: invalid value encountered in double_scalars\n"
     ]
    },
    {
     "name": "stderr",
     "output_type": "stream",
     "text": [
      "D:\\Softwares\\Anaconda3-5\\lib\\site-packages\\ipykernel_launcher.py:30: RuntimeWarning: invalid value encountered in double_scalars\n",
      "D:\\Softwares\\Anaconda3-5\\lib\\site-packages\\ipykernel_launcher.py:30: RuntimeWarning: invalid value encountered in double_scalars\n",
      "D:\\Softwares\\Anaconda3-5\\lib\\site-packages\\ipykernel_launcher.py:30: RuntimeWarning: invalid value encountered in double_scalars\n",
      "D:\\Softwares\\Anaconda3-5\\lib\\site-packages\\ipykernel_launcher.py:30: RuntimeWarning: invalid value encountered in double_scalars\n",
      "D:\\Softwares\\Anaconda3-5\\lib\\site-packages\\ipykernel_launcher.py:30: RuntimeWarning: invalid value encountered in double_scalars\n",
      "D:\\Softwares\\Anaconda3-5\\lib\\site-packages\\scipy\\optimize\\optimize.py:628: RuntimeWarning: invalid value encountered in double_scalars\n",
      "  grad[k] = (f(*((xk + d,) + args)) - f0) / d[k]\n",
      "D:\\Softwares\\Anaconda3-5\\lib\\site-packages\\ipykernel_launcher.py:30: RuntimeWarning: invalid value encountered in double_scalars\n",
      "D:\\Softwares\\Anaconda3-5\\lib\\site-packages\\ipykernel_launcher.py:30: RuntimeWarning: invalid value encountered in double_scalars\n",
      "D:\\Softwares\\Anaconda3-5\\lib\\site-packages\\ipykernel_launcher.py:30: RuntimeWarning: invalid value encountered in double_scalars\n",
      "D:\\Softwares\\Anaconda3-5\\lib\\site-packages\\ipykernel_launcher.py:30: RuntimeWarning: invalid value encountered in double_scalars\n",
      "D:\\Softwares\\Anaconda3-5\\lib\\site-packages\\ipykernel_launcher.py:30: RuntimeWarning: invalid value encountered in double_scalars\n",
      "D:\\Softwares\\Anaconda3-5\\lib\\site-packages\\ipykernel_launcher.py:30: RuntimeWarning: invalid value encountered in double_scalars\n",
      "D:\\Softwares\\Anaconda3-5\\lib\\site-packages\\ipykernel_launcher.py:30: RuntimeWarning: invalid value encountered in double_scalars\n",
      "D:\\Softwares\\Anaconda3-5\\lib\\site-packages\\ipykernel_launcher.py:30: RuntimeWarning: invalid value encountered in double_scalars\n",
      "D:\\Softwares\\Anaconda3-5\\lib\\site-packages\\ipykernel_launcher.py:30: RuntimeWarning: invalid value encountered in double_scalars\n",
      "D:\\Softwares\\Anaconda3-5\\lib\\site-packages\\ipykernel_launcher.py:30: RuntimeWarning: overflow encountered in double_scalars\n",
      "D:\\Softwares\\Anaconda3-5\\lib\\site-packages\\ipykernel_launcher.py:30: RuntimeWarning: overflow encountered in power\n",
      "D:\\Softwares\\Anaconda3-5\\lib\\site-packages\\ipykernel_launcher.py:30: RuntimeWarning: invalid value encountered in add\n",
      "D:\\Softwares\\Anaconda3-5\\lib\\site-packages\\ipykernel_launcher.py:30: RuntimeWarning: invalid value encountered in double_scalars\n",
      "D:\\Softwares\\Anaconda3-5\\lib\\site-packages\\ipykernel_launcher.py:30: RuntimeWarning: invalid value encountered in double_scalars\n",
      "D:\\Softwares\\Anaconda3-5\\lib\\site-packages\\ipykernel_launcher.py:30: RuntimeWarning: invalid value encountered in double_scalars\n",
      "D:\\Softwares\\Anaconda3-5\\lib\\site-packages\\ipykernel_launcher.py:30: RuntimeWarning: invalid value encountered in double_scalars\n",
      "D:\\Softwares\\Anaconda3-5\\lib\\site-packages\\ipykernel_launcher.py:30: RuntimeWarning: invalid value encountered in double_scalars\n",
      "D:\\Softwares\\Anaconda3-5\\lib\\site-packages\\ipykernel_launcher.py:30: RuntimeWarning: invalid value encountered in double_scalars\n",
      "D:\\Softwares\\Anaconda3-5\\lib\\site-packages\\ipykernel_launcher.py:30: RuntimeWarning: invalid value encountered in double_scalars\n",
      "D:\\Softwares\\Anaconda3-5\\lib\\site-packages\\ipykernel_launcher.py:30: RuntimeWarning: invalid value encountered in double_scalars\n",
      "D:\\Softwares\\Anaconda3-5\\lib\\site-packages\\ipykernel_launcher.py:30: RuntimeWarning: invalid value encountered in double_scalars\n",
      "D:\\Softwares\\Anaconda3-5\\lib\\site-packages\\ipykernel_launcher.py:30: RuntimeWarning: invalid value encountered in double_scalars\n",
      "D:\\Softwares\\Anaconda3-5\\lib\\site-packages\\ipykernel_launcher.py:30: RuntimeWarning: invalid value encountered in double_scalars\n",
      "D:\\Softwares\\Anaconda3-5\\lib\\site-packages\\ipykernel_launcher.py:30: RuntimeWarning: invalid value encountered in double_scalars\n",
      "D:\\Softwares\\Anaconda3-5\\lib\\site-packages\\ipykernel_launcher.py:30: RuntimeWarning: overflow encountered in double_scalars\n",
      "D:\\Softwares\\Anaconda3-5\\lib\\site-packages\\ipykernel_launcher.py:30: RuntimeWarning: overflow encountered in power\n",
      "D:\\Softwares\\Anaconda3-5\\lib\\site-packages\\ipykernel_launcher.py:30: RuntimeWarning: invalid value encountered in add\n",
      "D:\\Softwares\\Anaconda3-5\\lib\\site-packages\\ipykernel_launcher.py:30: RuntimeWarning: invalid value encountered in double_scalars\n",
      "D:\\Softwares\\Anaconda3-5\\lib\\site-packages\\ipykernel_launcher.py:30: RuntimeWarning: invalid value encountered in double_scalars\n",
      "D:\\Softwares\\Anaconda3-5\\lib\\site-packages\\ipykernel_launcher.py:30: RuntimeWarning: invalid value encountered in double_scalars\n",
      "D:\\Softwares\\Anaconda3-5\\lib\\site-packages\\ipykernel_launcher.py:30: RuntimeWarning: overflow encountered in multiply\n",
      "D:\\Softwares\\Anaconda3-5\\lib\\site-packages\\ipykernel_launcher.py:30: RuntimeWarning: invalid value encountered in add\n",
      "D:\\Softwares\\Anaconda3-5\\lib\\site-packages\\scipy\\optimize\\optimize.py:628: RuntimeWarning: invalid value encountered in double_scalars\n",
      "  grad[k] = (f(*((xk + d,) + args)) - f0) / d[k]\n",
      "D:\\Softwares\\Anaconda3-5\\lib\\site-packages\\ipykernel_launcher.py:30: RuntimeWarning: overflow encountered in multiply\n",
      "D:\\Softwares\\Anaconda3-5\\lib\\site-packages\\ipykernel_launcher.py:30: RuntimeWarning: invalid value encountered in add\n",
      "D:\\Softwares\\Anaconda3-5\\lib\\site-packages\\ipykernel_launcher.py:30: RuntimeWarning: invalid value encountered in double_scalars\n",
      "D:\\Softwares\\Anaconda3-5\\lib\\site-packages\\ipykernel_launcher.py:30: RuntimeWarning: overflow encountered in double_scalars\n",
      "D:\\Softwares\\Anaconda3-5\\lib\\site-packages\\ipykernel_launcher.py:30: RuntimeWarning: overflow encountered in power\n",
      "D:\\Softwares\\Anaconda3-5\\lib\\site-packages\\ipykernel_launcher.py:30: RuntimeWarning: invalid value encountered in add\n",
      "D:\\Softwares\\Anaconda3-5\\lib\\site-packages\\ipykernel_launcher.py:30: RuntimeWarning: invalid value encountered in double_scalars\n",
      "D:\\Softwares\\Anaconda3-5\\lib\\site-packages\\ipykernel_launcher.py:30: RuntimeWarning: invalid value encountered in double_scalars\n",
      "D:\\Softwares\\Anaconda3-5\\lib\\site-packages\\ipykernel_launcher.py:30: RuntimeWarning: invalid value encountered in double_scalars\n",
      "D:\\Softwares\\Anaconda3-5\\lib\\site-packages\\ipykernel_launcher.py:30: RuntimeWarning: invalid value encountered in double_scalars\n",
      "D:\\Softwares\\Anaconda3-5\\lib\\site-packages\\ipykernel_launcher.py:30: RuntimeWarning: overflow encountered in double_scalars\n",
      "D:\\Softwares\\Anaconda3-5\\lib\\site-packages\\ipykernel_launcher.py:30: RuntimeWarning: invalid value encountered in add\n",
      "D:\\Softwares\\Anaconda3-5\\lib\\site-packages\\ipykernel_launcher.py:30: RuntimeWarning: invalid value encountered in double_scalars\n",
      "D:\\Softwares\\Anaconda3-5\\lib\\site-packages\\ipykernel_launcher.py:30: RuntimeWarning: invalid value encountered in double_scalars\n",
      "D:\\Softwares\\Anaconda3-5\\lib\\site-packages\\ipykernel_launcher.py:30: RuntimeWarning: invalid value encountered in double_scalars\n",
      "D:\\Softwares\\Anaconda3-5\\lib\\site-packages\\ipykernel_launcher.py:30: RuntimeWarning: invalid value encountered in double_scalars\n",
      "D:\\Softwares\\Anaconda3-5\\lib\\site-packages\\ipykernel_launcher.py:30: RuntimeWarning: invalid value encountered in double_scalars\n",
      "D:\\Softwares\\Anaconda3-5\\lib\\site-packages\\ipykernel_launcher.py:30: RuntimeWarning: invalid value encountered in double_scalars\n",
      "D:\\Softwares\\Anaconda3-5\\lib\\site-packages\\ipykernel_launcher.py:30: RuntimeWarning: invalid value encountered in double_scalars\n",
      "D:\\Softwares\\Anaconda3-5\\lib\\site-packages\\ipykernel_launcher.py:30: RuntimeWarning: invalid value encountered in double_scalars\n",
      "D:\\Softwares\\Anaconda3-5\\lib\\site-packages\\ipykernel_launcher.py:30: RuntimeWarning: invalid value encountered in double_scalars\n",
      "D:\\Softwares\\Anaconda3-5\\lib\\site-packages\\ipykernel_launcher.py:30: RuntimeWarning: invalid value encountered in double_scalars\n",
      "D:\\Softwares\\Anaconda3-5\\lib\\site-packages\\ipykernel_launcher.py:30: RuntimeWarning: invalid value encountered in double_scalars\n",
      "D:\\Softwares\\Anaconda3-5\\lib\\site-packages\\ipykernel_launcher.py:30: RuntimeWarning: invalid value encountered in double_scalars\n",
      "D:\\Softwares\\Anaconda3-5\\lib\\site-packages\\ipykernel_launcher.py:30: RuntimeWarning: invalid value encountered in double_scalars\n",
      "D:\\Softwares\\Anaconda3-5\\lib\\site-packages\\ipykernel_launcher.py:30: RuntimeWarning: invalid value encountered in double_scalars\n"
     ]
    },
    {
     "name": "stderr",
     "output_type": "stream",
     "text": [
      "D:\\Softwares\\Anaconda3-5\\lib\\site-packages\\ipykernel_launcher.py:30: RuntimeWarning: invalid value encountered in double_scalars\n",
      "D:\\Softwares\\Anaconda3-5\\lib\\site-packages\\scipy\\optimize\\optimize.py:628: RuntimeWarning: invalid value encountered in double_scalars\n",
      "  grad[k] = (f(*((xk + d,) + args)) - f0) / d[k]\n",
      "D:\\Softwares\\Anaconda3-5\\lib\\site-packages\\ipykernel_launcher.py:30: RuntimeWarning: invalid value encountered in double_scalars\n",
      "D:\\Softwares\\Anaconda3-5\\lib\\site-packages\\ipykernel_launcher.py:30: RuntimeWarning: invalid value encountered in double_scalars\n",
      "D:\\Softwares\\Anaconda3-5\\lib\\site-packages\\ipykernel_launcher.py:30: RuntimeWarning: invalid value encountered in double_scalars\n",
      "D:\\Softwares\\Anaconda3-5\\lib\\site-packages\\ipykernel_launcher.py:30: RuntimeWarning: invalid value encountered in double_scalars\n",
      "D:\\Softwares\\Anaconda3-5\\lib\\site-packages\\ipykernel_launcher.py:30: RuntimeWarning: invalid value encountered in double_scalars\n",
      "D:\\Softwares\\Anaconda3-5\\lib\\site-packages\\ipykernel_launcher.py:30: RuntimeWarning: invalid value encountered in double_scalars\n",
      "D:\\Softwares\\Anaconda3-5\\lib\\site-packages\\ipykernel_launcher.py:30: RuntimeWarning: invalid value encountered in double_scalars\n",
      "D:\\Softwares\\Anaconda3-5\\lib\\site-packages\\ipykernel_launcher.py:30: RuntimeWarning: invalid value encountered in double_scalars\n",
      "D:\\Softwares\\Anaconda3-5\\lib\\site-packages\\ipykernel_launcher.py:30: RuntimeWarning: invalid value encountered in double_scalars\n",
      "D:\\Softwares\\Anaconda3-5\\lib\\site-packages\\ipykernel_launcher.py:30: RuntimeWarning: invalid value encountered in double_scalars\n",
      "D:\\Softwares\\Anaconda3-5\\lib\\site-packages\\ipykernel_launcher.py:30: RuntimeWarning: overflow encountered in multiply\n",
      "D:\\Softwares\\Anaconda3-5\\lib\\site-packages\\ipykernel_launcher.py:30: RuntimeWarning: invalid value encountered in add\n",
      "D:\\Softwares\\Anaconda3-5\\lib\\site-packages\\ipykernel_launcher.py:30: RuntimeWarning: invalid value encountered in double_scalars\n",
      "D:\\Softwares\\Anaconda3-5\\lib\\site-packages\\ipykernel_launcher.py:30: RuntimeWarning: invalid value encountered in double_scalars\n"
     ]
    },
    {
     "name": "stdout",
     "output_type": "stream",
     "text": [
      "Global Minimum: E(params_fit) = 2939.1005918417122\n",
      "Params: params_fit = [1.855892392764195, 2.096489415570297, 2175.733249357123, -9980.452422724968, 0.10353633347487622]\n",
      "Percent Differences: \n",
      "o: 90.72%\n",
      "m: -4.82%\n",
      "A: -108686.66%\n",
      "C: 1996190.48%\n",
      "tau: 96.55%\n",
      "\n"
     ]
    },
    {
     "data": {
      "image/png": "[encoded data removed]",
      "text/plain": [
       "<matplotlib.figure.Figure at 0x28a99309160>"
      ]
     },
     "metadata": {},
     "output_type": "display_data"
    }
   ],
   "source": [
    "'''\n",
    "    Author: Dylan Albrecht\n",
    "    Date: December 13th, 2016\n",
    "    This script fits a generic log-periodic function as from (e.g.):\n",
    "    https://arxiv.org/abs/cond-mat/0201458v1\n",
    "    * Uses scipy basinhopping, which is generally preferred over their\n",
    "      simulated annealing algorithm.\n",
    "    * As a demonstration, fits fake data in the main block.\n",
    "    Reasonable steps are implemented in MyStepper\n",
    "    Reasonable bounds are implemented in MyBounds\n",
    "    * These are both sensitive to parameter ordering:\n",
    "      o, m, A, C, tau\n",
    "'''\n",
    "import os\n",
    "\n",
    "import numpy as np\n",
    "import scipy.stats as scs\n",
    "from scipy.optimize import basinhopping\n",
    "import matplotlib.pyplot as plt\n",
    "import pandas as pd\n",
    "\n",
    "\n",
    "# Log periodic function, as per https://arxiv.org/abs/cond-mat/0201458v1\n",
    "def y(x, o, m, A, C, tau):\n",
    "    ''' Target Log-Periodic Power Law (LPPL) function\n",
    "        Note: Scaled 'B' -> -1.0\n",
    "        TODO: Perhaps we should check that parameters passed result in\n",
    "              reasonable computations\n",
    "    '''\n",
    "    ret = A + tau**m * x**m + C * tau**m * x**m * np.cos(o * np.log(x))\n",
    "\n",
    "    return ret\n",
    "\n",
    "\n",
    "class MyStepper(object):\n",
    "    ''' Implements some simple reasonable modifications to parameter stepping\n",
    "            * Frequencies are kept positive\n",
    "            * Powers are exponentially suppressed from getting 'large'\n",
    "            * \n",
    "    '''\n",
    "    def __init__(self, stepsize=0.5):\n",
    "        self.stepsize = stepsize\n",
    "\n",
    "    def __call__(self, x):\n",
    "        ''' Updater for stepping x[*] parameters\n",
    "        '''\n",
    "\n",
    "        s = self.stepsize\n",
    "\n",
    "        # relative parameter scales o/m, etc.\n",
    "        scale_om = 10.0\n",
    "        scale_Am = 100.0\n",
    "        scale_Cm = 100.0\n",
    "        scale_tm = 10.0\n",
    "\n",
    "        # Treat the frequency differently -- only interested in positive\n",
    "        # frequency values.\n",
    "        inc = scale_om * np.random.uniform(-s, s)\n",
    "\n",
    "        if (x[0] + inc <= 0):\n",
    "            x[0] += abs(inc)\n",
    "        else:\n",
    "            x[0] += inc\n",
    "\n",
    "        # Treat the power differently -- large powers (>>1) can easily cause\n",
    "        # numerical problems, so we exponentially penalize steps in the power\n",
    "        # parameter 'm'.\n",
    "        x[1] += np.exp(-abs(x[1])) * np.random.uniform(-s, s)\n",
    "\n",
    "        x[2] += scale_Am * np.random.uniform(-s, s)\n",
    "        x[3] += scale_Cm * np.random.uniform(-s, s)\n",
    "\n",
    "        # Treat 'critical time' differently\n",
    "        inc = scale_tm * np.random.uniform(-s, s)\n",
    "\n",
    "        if (x[4] + inc <= 0):\n",
    "            x[4] += abs(inc)\n",
    "        else:\n",
    "            x[4] += inc\n",
    "\n",
    "        return x\n",
    "        \n",
    "\n",
    "class MyBounds(object):\n",
    "    ''' This class implements a set of reasonable bounds (depends on units and\n",
    "        domain knowledge):\n",
    "            * frequencies less than 200\n",
    "            * powers less than 10\n",
    "            * intercept/coefficient less than 1e4\n",
    "            * critical time\n",
    "    '''\n",
    "    def __init__(self, xmax=[200, 10, 1e4, 1e4, 100],\n",
    "                       xmin=[0, -10, -1e4, -1e4, 1e-3]):\n",
    "        self.xmax = np.array(xmax)\n",
    "        self.xmin = np.array(xmin)\n",
    "\n",
    "    def __call__(self, **kwargs):\n",
    "        ''' Evaluater -- Returns True if we accept the solution, False\n",
    "            otherwise.\n",
    "        '''\n",
    "        x = kwargs[\"x_new\"]\n",
    "\n",
    "        tmax = bool(np.all(x <= self.xmax))\n",
    "        tmin = bool(np.all(x >= self.xmin))\n",
    "\n",
    "        # Only accept solutions within all parameter bounds\n",
    "        return tmax and tmin\n",
    "\n",
    "\n",
    "\n",
    "if __name__ == '__main__':\n",
    "    # Fake data parameters -- what we hope our fit returns!\n",
    "    o = 20.0    # Frequency\n",
    "    m = 2.0     # Power\n",
    "    A = 2.0     # Intercept\n",
    "    C = 0.5     # Coefficient\n",
    "    t = 3.0     # Critical time\n",
    "\n",
    "    panswer = [('o', 20.0), ('m', 2.0), ('A', 2.0), ('C', 0.5), ('tau', 3.00)]\n",
    "\n",
    "    # Fake data -- log-periodic function with Gaussian noise:\n",
    "    #num_data_points = 1000\n",
    "    #xd = np.linspace(0.1, 10, num_data_points)\n",
    "\n",
    "    #noise = 20\n",
    "    #yd = y(xd, o, m, A, C, t) + scs.norm(0, noise).rvs(size=num_data_points)\n",
    "    #Load data\n",
    "    prices = pd.read_csv(\"./data/GSPC.csv\")\n",
    "\n",
    "    #Log of prices\n",
    "    yd = np.array((prices['Close'])[6000:6803])\n",
    "    print(len(yd))\n",
    "    xd = np.linspace(1, len(yd)/255, len(yd))\n",
    "    # Set up our 'energy'/loss function -- Mean squared distance\n",
    "    def E_func(params):\n",
    "        ret = y(xd, params[0], params[1], params[2], params[3],\n",
    "                params[4])\n",
    "\n",
    "        n = float(len(ret))\n",
    "        er = (ret - yd).dot(ret - yd) / n\n",
    "\n",
    "        if np.isnan(er):\n",
    "            er = 1e10\n",
    "\n",
    "        return er\n",
    "\n",
    "    ####################\n",
    "    # Heuristic Fitting\n",
    "\n",
    "    # Initial guess at the parameters:\n",
    "    p0 = [1.0, 1.0, 1.0, 1.0, 1.0]\n",
    "\n",
    "    # Step size can greatly affect the solution/convergence.\n",
    "    mystep = MyStepper(0.1)\n",
    "    mybound = MyBounds()\n",
    "\n",
    "    ret = basinhopping(E_func, p0, take_step=mystep, accept_test=mybound)\n",
    "\n",
    "    ################\n",
    "    # Show results!\n",
    "\n",
    "    print(\"Global Minimum: E(params_fit) = {}\".format(ret.fun))\n",
    "    print(\"Params: params_fit = [{0}, {1}, {2}, {3}, {4}]\".format(*ret.x))\n",
    "\n",
    "    print(\"Percent Differences: \")\n",
    "    for pf, (pn, pa) in zip(ret.x, panswer):\n",
    "        print(\"{0}: {1:0.2f}%\".format(pn, (pa - pf) / pa * 100.0))\n",
    "\n",
    "    plt.scatter(xd, yd)\n",
    "    xd = np.linspace(1, len(yd)/255, len(yd))\n",
    "    plt.plot(xd, y(xd, *ret.x), c='r')\n",
    "    print()\n",
    "    fname = \"lppl_basinhopping_fit_OctoberCrash.png\"\n",
    "    \n",
    "    save_file = os.path.join('images', fname)\n",
    "\n",
    "    plt.savefig(save_file)\n",
    "\n",
    "    plt.show()"
   ]
  },
  {
   "cell_type": "code",
   "execution_count": 9,
   "metadata": {},
   "outputs": [
    {
     "data": {
      "text/plain": [
       "26.3925"
      ]
     },
     "execution_count": 9,
     "metadata": {},
     "output_type": "execute_result"
    }
   ],
   "source": [
    "0.1035*255"
   ]
  },
  {
   "cell_type": "code",
   "execution_count": null,
   "metadata": {
    "collapsed": true
   },
   "outputs": [],
   "source": []
  }
 ],
 "metadata": {
  "kernelspec": {
   "display_name": "Python 3",
   "language": "python",
   "name": "python3"
  },
  "language_info": {
   "codemirror_mode": {
    "name": "ipython",
    "version": 3
   },
   "file_extension": ".py",
   "mimetype": "text/x-python",
   "name": "python",
   "nbconvert_exporter": "python",
   "pygments_lexer": "ipython3",
   "version": "3.6.3"
  }
 },
 "nbformat": 4,
 "nbformat_minor": 2
}
