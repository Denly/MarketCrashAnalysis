{
 "cells": [
  {
   "attachments": {
    "image.png": {
     "image/png": "[encoded data removed]"
    }
   },
   "cell_type": "markdown",
   "metadata": {},
   "source": [
    "A Log-Periodic Power Law (LPPL) model is applied to see if it can accurately predict critical turning points in its exponential growth cycle.  LPPL models have their origins in statistical physics and are used to determine when a system is reaching a critical point.  While the original applications were in areas such as magnetism and  seismology,  the first use in economics was by Didier Sornette  in 1996, applying the search for critical points to the October 1987 market crash.  There have also been several studies on other financial assets including currency markets. (See Tranian 2012, Johansen 2013 ).\n",
    "\n",
    "The LPPL model is an oscillating, exponential model for price evolution. The intuition that underlies crash prediction is essentially the idea of the impossibility for continuing  exponential price growth, with increasing oscillations approaching failure indicated by swings in investor sentiment.\n",
    "\n",
    "Mathematically, a basic LPPL model proposes that the price of an asset evolves at time t according to:\n",
    "\n",
    "LPPL eq1 ![image.png](attachment:image.png)\n",
    "where:\n",
    "\n",
    "ln[P(t)]  –  natural log of  Price p at time t\n",
    "tc   –  the “Critical Time”  period i.e. the time of most probable crash\n",
    "β (beta)  –  the exponential price growth with constraint   0 < β< 1\n",
    "ω (omega) – the oscillation amplitude with general constraint   2 < ω < 20\n",
    "ϕ (phi)  – a fixed phase constant parameter with constraint  0 < ϕ < 2π\n",
    "A  – a constant equal to the log price at the Critical time (tc)  (ie. ln[P(tc)]  > 0 )\n",
    "B(o) – a constant embodying the scale of power law where B(o) <0\n",
    "C – a constant that captures the magnitude of the oscillation around price growth where|C| < 1"
   ]
  },
  {
   "cell_type": "code",
   "execution_count": 53,
   "metadata": {
    "collapsed": true
   },
   "outputs": [],
   "source": [
    "'''\n",
    "* Notebook to calculate the critical time of market crash using LPPL\n",
    "* Using scipy basinhopping package\n",
    "* Author: Nihar Raut\n",
    "\n",
    "We check the bubble critical time for different asset classes.\n",
    "Only Tech bubble in place for now. \n",
    "\n",
    "TODO:\n",
    "Add other asset classes which have shown bubble behaviour in past or are currently in a bubble\n",
    "Try genetic algorithm instead of BasinHopping\n",
    "\n",
    "'''\n",
    "\n",
    "import os\n",
    "import numpy as np\n",
    "import scipy.stats as scs\n",
    "from scipy.optimize import basinhopping\n",
    "import matplotlib.pyplot as plt\n",
    "import pandas as pd\n"
   ]
  },
  {
   "cell_type": "code",
   "execution_count": 22,
   "metadata": {},
   "outputs": [],
   "source": [
    "\n",
    "# Log periodic function, as per https://ideas.repec.org/a/eee/finana/v30y2013icp287-297.html\n",
    "def y(x, A,B,tc,m,C,o,phi):\n",
    "\n",
    "    return A + B*(tc-x)**m + C*(tc-x)**m*np.cos(o *np.log(tc-x)+phi)\n",
    "\n",
    "def E_func(params):\n",
    "        ret = y(xd, params[0], params[1], params[2], params[3],\n",
    "                params[4],params[5], params[6])\n",
    "\n",
    "        n = float(len(ret))\n",
    "        er = (ret - yd).dot(ret - yd) / n\n",
    "\n",
    "        if np.isnan(er):\n",
    "            er = 1e10\n",
    "\n",
    "        return er"
   ]
  },
  {
   "cell_type": "code",
   "execution_count": 93,
   "metadata": {
    "collapsed": true
   },
   "outputs": [],
   "source": [
    "def run_main(data,file_name,p0):\n",
    "    yd = np.array(data)\n",
    "    print(len(yd),\" days\")\n",
    "    global min_tc \n",
    "    min_tc = len(yd)/255\n",
    "    xd = np.linspace(1, len(yd)/255, len(yd))\n",
    "    \n",
    "    class MyBounds(object):\n",
    "        ''' Implements Bounds\n",
    "        '''\n",
    "        print(min_tc)\n",
    "        def __init__(self, xmax=[200, 0, min_tc+3, 0.5,1, 7.92,6.28],\n",
    "                           xmin=[0, -10,min_tc, 0.15,-10, 4.8, 0]):\n",
    "            self.xmax = np.array(xmax)\n",
    "            self.xmin = np.array(xmin)\n",
    "    \n",
    "        def __call__(self, **kwargs):\n",
    "            ''' Evaluater -- Returns True if we accept the solution, False\n",
    "                otherwise.\n",
    "            '''\n",
    "            x = kwargs[\"x_new\"]\n",
    "    \n",
    "            tmax = bool(np.all(x <= self.xmax))\n",
    "            tmin = bool(np.all(x >= self.xmin))\n",
    "    \n",
    "            # Only accept solutions within all parameter bounds\n",
    "            return tmax and tmin\n",
    "    ####################\n",
    "    # Heuristic Fitting\n",
    "\n",
    "    # Initial guess at the parameters:\n",
    "    \n",
    "\n",
    "    mybound = MyBounds()\n",
    "    #take_step=mystep,\n",
    "    ret = basinhopping(E_func, p0,  accept_test=mybound)\n",
    "    \n",
    "    print(\"Params: params_fit = [{0}, {1}, {2}, {3}, {4},{5},{6}]\".format(*ret.x))\n",
    "    \n",
    "    plt.scatter(xd, yd)\n",
    "    xd = np.linspace(1, len(yd)/255, len(yd))\n",
    "    plt.plot(xd, y(xd, *ret.x), c='r')\n",
    "    print(\"Critical Time tc \",ret.x[2])\n",
    "    print(\"This translates to \",(ret.x[2]-min_tc)*255, \" days\")\n",
    "    #fname = \"lppl_basinhopping_fit_TechBubble2002.png\"\n",
    "    \n",
    "    save_file = os.path.join('images', file_name)\n",
    "    \n",
    "    plt.savefig(save_file)\n",
    "\n",
    "    plt.show()"
   ]
  },
  {
   "cell_type": "markdown",
   "metadata": {},
   "source": [
    "####  Tech Bubble\n",
    "Scenario: Nasdaq has hit 2500 for the first time propelled on the tech boom\n",
    "\n",
    "Date : 4/5/1999\n",
    "\n",
    "We have to check for the critical time\n",
    "\n"
   ]
  },
  {
   "cell_type": "code",
   "execution_count": 73,
   "metadata": {},
   "outputs": [
    {
     "name": "stdout",
     "output_type": "stream",
     "text": [
      "822  days\n",
      "3.223529411764706\n",
      "Params: params_fit = [-19.20330837407822, 36.36484731579199, 3.6339003179778073, -0.16392090092855616, -1.2888410807229569,5.555154166854144,8.273747038723426]\n",
      "Critical Time tc  3.6339003179778073\n",
      "This translates to  104.64458108434084  days\n"
     ]
    },
    {
     "data": {
      "image/png": "[encoded data removed]",
      "text/plain": [
       "<matplotlib.figure.Figure at 0x2656b141a58>"
      ]
     },
     "metadata": {},
     "output_type": "display_data"
    }
   ],
   "source": [
    "#Load Data : Window 1/1/1996 to 4/5/1999\n",
    "prices = pd.read_csv(\"./data/nasdaq.csv\")\n",
    "\n",
    "prices = np.array(prices['Close'][(prices['Date']>='1996-01-01') & (prices['Date']<='1999-04-05') ]/100)\n",
    "p0 =  [ 10,-2,4,0.33,0.5,6.36,3.14]  # Generally suitable values\n",
    "run_main(prices,'Tech_Bubble',p0)\n"
   ]
  },
  {
   "cell_type": "markdown",
   "metadata": {},
   "source": [
    "The critical time given by the LPPL model is 104 days.\n",
    "\n",
    "However, we can also notice that the parameters are not in the specified bounds. This suggests that this might not be the\n",
    "optimal solution. Basinhoping being a metaheuristic, there is no guarantee of finding an optimum or near optimum solution of the cost function. But, heuristically, the fit is good and the critical time arrived at should not be ignored.\n",
    "\n",
    "Retrospectively, the index went till 5000 and reveresed by second half of 2000."
   ]
  },
  {
   "cell_type": "code",
   "execution_count": null,
   "metadata": {},
   "outputs": [
    {
     "name": "stdout",
     "output_type": "stream",
     "text": [
      "2518  days\n",
      "9.874509803921569\n"
     ]
    },
    {
     "name": "stderr",
     "output_type": "stream",
     "text": [
      "D:\\Softwares\\Anaconda3-5\\lib\\site-packages\\ipykernel_launcher.py:5: RuntimeWarning: overflow encountered in power\n",
      "  \"\"\"\n",
      "D:\\Softwares\\Anaconda3-5\\lib\\site-packages\\ipykernel_launcher.py:5: RuntimeWarning: overflow encountered in power\n",
      "  \"\"\"\n",
      "D:\\Softwares\\Anaconda3-5\\lib\\site-packages\\ipykernel_launcher.py:5: RuntimeWarning: overflow encountered in power\n",
      "  \"\"\"\n"
     ]
    }
   ],
   "source": [
    "#Critical time for S&P Feb 2018 crash\n",
    "\n",
    "prices_snp = pd.read_excel(\"./data/gspc_excl.xlsx\")\n",
    "\n",
    "prices_snp = np.array(prices_snp['Close'][(prices_snp['Date']>='1/1/2008') & (prices_snp['Date']<='12/31/2017') ]/100)\n",
    "p0 =  [ 1,1,12,1,1,1,1]# Generally suitable values\n",
    "run_main(prices_snp,'S&P_February2018Crash',p0)\n"
   ]
  },
  {
   "cell_type": "code",
   "execution_count": null,
   "metadata": {
    "collapsed": true
   },
   "outputs": [],
   "source": []
  }
 ],
 "metadata": {
  "kernelspec": {
   "display_name": "Python 3",
   "language": "python",
   "name": "python3"
  },
  "language_info": {
   "codemirror_mode": {
    "name": "ipython",
    "version": 3
   },
   "file_extension": ".py",
   "mimetype": "text/x-python",
   "name": "python",
   "nbconvert_exporter": "python",
   "pygments_lexer": "ipython3",
   "version": "3.6.3"
  }
 },
 "nbformat": 4,
 "nbformat_minor": 2
}
